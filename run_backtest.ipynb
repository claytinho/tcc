{
 "cells": [
  {
   "cell_type": "code",
   "execution_count": 1,
   "metadata": {},
   "outputs": [
    {
     "ename": "ModuleNotFoundError",
     "evalue": "No module named 'statsmodels'",
     "output_type": "error",
     "traceback": [
      "\u001b[1;31m---------------------------------------------------------------------------\u001b[0m",
      "\u001b[1;31mModuleNotFoundError\u001b[0m                       Traceback (most recent call last)",
      "Cell \u001b[1;32mIn[1], line 1\u001b[0m\n\u001b[1;32m----> 1\u001b[0m \u001b[38;5;28;01mfrom\u001b[39;00m \u001b[38;5;21;01mbackend\u001b[39;00m\u001b[38;5;21;01m.\u001b[39;00m\u001b[38;5;21;01mbacktest\u001b[39;00m \u001b[38;5;28;01mimport\u001b[39;00m BacktestAnalyzer\n\u001b[0;32m      2\u001b[0m \u001b[38;5;28;01mfrom\u001b[39;00m \u001b[38;5;21;01mbackend\u001b[39;00m\u001b[38;5;21;01m.\u001b[39;00m\u001b[38;5;21;01mdata_collector\u001b[39;00m \u001b[38;5;28;01mimport\u001b[39;00m DataLoader\n\u001b[0;32m      3\u001b[0m \u001b[38;5;28;01mfrom\u001b[39;00m \u001b[38;5;21;01mbackend\u001b[39;00m\u001b[38;5;21;01m.\u001b[39;00m\u001b[38;5;21;01mdata_analysis\u001b[39;00m \u001b[38;5;28;01mimport\u001b[39;00m PairTradingAnalyzer\n",
      "File \u001b[1;32md:\\Data Science\\Finanças Quantitativas\\tcc\\backend\\backtest.py:1\u001b[0m\n\u001b[1;32m----> 1\u001b[0m \u001b[38;5;28;01mfrom\u001b[39;00m \u001b[38;5;21;01mbackend\u001b[39;00m\u001b[38;5;21;01m.\u001b[39;00m\u001b[38;5;21;01mdata_analysis\u001b[39;00m \u001b[38;5;28;01mimport\u001b[39;00m PairTradingAnalyzer\n\u001b[0;32m      2\u001b[0m \u001b[38;5;28;01mimport\u001b[39;00m \u001b[38;5;21;01mpandas\u001b[39;00m \u001b[38;5;28;01mas\u001b[39;00m \u001b[38;5;21;01mpd\u001b[39;00m\n\u001b[0;32m      3\u001b[0m \u001b[38;5;28;01mimport\u001b[39;00m \u001b[38;5;21;01mnumpy\u001b[39;00m \u001b[38;5;28;01mas\u001b[39;00m \u001b[38;5;21;01mnp\u001b[39;00m\n",
      "File \u001b[1;32md:\\Data Science\\Finanças Quantitativas\\tcc\\backend\\data_analysis.py:1\u001b[0m\n\u001b[1;32m----> 1\u001b[0m \u001b[38;5;28;01mfrom\u001b[39;00m \u001b[38;5;21;01mstatsmodels\u001b[39;00m\u001b[38;5;21;01m.\u001b[39;00m\u001b[38;5;21;01mtsa\u001b[39;00m\u001b[38;5;21;01m.\u001b[39;00m\u001b[38;5;21;01mstattools\u001b[39;00m \u001b[38;5;28;01mimport\u001b[39;00m adfuller, coint, acf, pacf\n\u001b[0;32m      2\u001b[0m \u001b[38;5;28;01mimport\u001b[39;00m \u001b[38;5;21;01mstatsmodels\u001b[39;00m\u001b[38;5;21;01m.\u001b[39;00m\u001b[38;5;21;01mapi\u001b[39;00m \u001b[38;5;28;01mas\u001b[39;00m \u001b[38;5;21;01msm\u001b[39;00m\n\u001b[0;32m      3\u001b[0m \u001b[38;5;28;01mimport\u001b[39;00m \u001b[38;5;21;01mnumpy\u001b[39;00m \u001b[38;5;28;01mas\u001b[39;00m \u001b[38;5;21;01mnp\u001b[39;00m\n",
      "\u001b[1;31mModuleNotFoundError\u001b[0m: No module named 'statsmodels'"
     ]
    }
   ],
   "source": [
    "from backend.backtest import BacktestAnalyzer\n",
    "from backend.data_collector import DataLoader\n",
    "from backend.data_analysis import PairTradingAnalyzer\n",
    "\n",
    "import pandas as pd\n",
    "\n",
    "tickers = [\n",
    "    \"VALE3.SA\", \"PETR4.SA\", \"ITUB4.SA\", \"PETR3.SA\", \"BBAS3.SA\", \"ELET3.SA\", \"BBDC4.SA\", \"WEGE3.SA\", \n",
    "    \"B3SA3.SA\", \"ITSA4.SA\", \"ABEV3.SA\", \"BPAC11.SA\", \"RENT3.SA\", \"JBSS3.SA\", \"EQTL3.SA\", \"PRIO3.SA\", \n",
    "    \"RADL3.SA\", \"SUZB3.SA\", \"RDOR3.SA\", \"EMBR3.SA\", \"SBSP3.SA\", \"RAIL3.SA\", \"UGPA3.SA\", \"VBBR3.SA\", \n",
    "    \"BBSE3.SA\", \"GGBR4.SA\", \"ENEV3.SA\", \"CMIG4.SA\", \"VIVT3.SA\", \"BRFS3.SA\"\n",
    "]\n",
    "\n",
    "data_loader = DataLoader(tickers=tickers,\n",
    "                         start_date=\"2024-01-01\",\n",
    "                         end_date=\"2024-09-01\")\n",
    "data = data_loader.fetch_data()\n",
    "data = data_loader.preprocess_data()\n",
    "\n",
    "trading_analyzer = PairTradingAnalyzer(data)\n",
    "\n",
    "backtest = BacktestAnalyzer(data, trading_analyzer)\n",
    "backtest.run_analysis(start_date='2024-03-15', end_date='2024-08-23')"
   ]
  }
 ],
 "metadata": {
  "kernelspec": {
   "display_name": "env",
   "language": "python",
   "name": "python3"
  },
  "language_info": {
   "codemirror_mode": {
    "name": "ipython",
    "version": 3
   },
   "file_extension": ".py",
   "mimetype": "text/x-python",
   "name": "python",
   "nbconvert_exporter": "python",
   "pygments_lexer": "ipython3",
   "version": "3.11.9"
  }
 },
 "nbformat": 4,
 "nbformat_minor": 2
}
